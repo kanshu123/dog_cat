{
 "cells": [
  {
   "cell_type": "code",
   "execution_count": 4,
   "metadata": {
    "collapsed": false
   },
   "outputs": [
    {
     "name": "stdout",
     "output_type": "stream",
     "text": [
      "Requirement already satisfied: pillow in /anaconda/lib/python3.5/site-packages\n",
      "Using TensorFlow backend.\n"
     ]
    }
   ],
   "source": [
    "!pip3 install pillow\n",
    "!KERAS_BACKEND=tensorflow python3 -c \"from keras import backend\""
   ]
  },
  {
   "cell_type": "code",
   "execution_count": 6,
   "metadata": {
    "collapsed": false
   },
   "outputs": [],
   "source": [
    "import os\n",
    "import numpy as np\n",
    "import keras\n",
    "from keras.models import Sequential\n",
    "from keras.layers import Activation,Dropout,Flatten,Dense\n",
    "from keras.preprocessing.image import ImageDataGenerator\n",
    "from keras.layers import Conv2D,MaxPooling2D,ZeroPadding2D\n",
    "from keras import optimizers"
   ]
  },
  {
   "cell_type": "code",
   "execution_count": 30,
   "metadata": {
    "collapsed": false
   },
   "outputs": [
    {
     "name": "stdout",
     "output_type": "stream",
     "text": [
      "Using TensorFlow backend.\r\n"
     ]
    }
   ],
   "source": [
    "!KERAS_BACKEND=tensorflow python3 -c \"from keras import backend\""
   ]
  },
  {
   "cell_type": "code",
   "execution_count": 2,
   "metadata": {
    "collapsed": false
   },
   "outputs": [],
   "source": [
    "img_width,img_height = 150,150"
   ]
  },
  {
   "cell_type": "code",
   "execution_count": 23,
   "metadata": {
    "collapsed": false
   },
   "outputs": [],
   "source": [
    "datagen = ImageDataGenerator(rescale = 1./255)\n",
    "train_data_dir = '/Users/ks/Documents/udacity/deep_learning_foundation/dog_cat/train'\n",
    "val_data_dir = '/Users/ks/Documents/udacity/deep_learning_foundation/dog_cat/validation'"
   ]
  },
  {
   "cell_type": "code",
   "execution_count": 32,
   "metadata": {
    "collapsed": false
   },
   "outputs": [
    {
     "name": "stdout",
     "output_type": "stream",
     "text": [
      "Found 2050 images belonging to 2 classes.\n",
      "Found 951 images belonging to 2 classes.\n"
     ]
    }
   ],
   "source": [
    "train_generator = datagen.flow_from_directory(\n",
    "     train_data_dir,\n",
    "     target_size = (img_width,img_height),\n",
    "     batch_size = 1,\n",
    "     class_mode = 'binary')\n",
    "\n",
    "validation_generator = datagen.flow_from_directory(\n",
    "     val_data_dir,\n",
    "     target_size = (img_width,img_height),\n",
    "     batch_size = 1,\n",
    "     class_mode = 'binary')"
   ]
  },
  {
   "cell_type": "code",
   "execution_count": 33,
   "metadata": {
    "collapsed": false,
    "scrolled": false
   },
   "outputs": [],
   "source": [
    "model = Sequential()\n",
    "model.add(Conv2D(32,(3,3),input_shape =(img_width,img_height,3),padding = 'same'))\n",
    "model.add(Activation('relu'))\n",
    "model.add(MaxPooling2D(pool_size = (2,2),padding = 'same'))\n",
    "\n",
    "model.add(Conv2D(32,(3,3),padding = 'same'))\n",
    "model.add(Activation('relu'))\n",
    "model.add(MaxPooling2D(pool_size = (2,2),padding = 'same'))\n",
    "\n",
    "model.add(Conv2D(64,(3,3),padding = 'same'))\n",
    "model.add(Activation('relu'))\n",
    "model.add(MaxPooling2D(pool_size = (2,2),padding = 'same'))\n",
    "\n",
    "model.add(Flatten())\n",
    "model.add(Dense(64))\n",
    "model.add(Activation('relu'))\n",
    "model.add(Dropout(0.5))\n",
    "model.add(Dense(1))\n",
    "model.add(Activation('sigmoid'))"
   ]
  },
  {
   "cell_type": "code",
   "execution_count": 34,
   "metadata": {
    "collapsed": true
   },
   "outputs": [],
   "source": [
    "model.compile(loss = 'binary_crossentropy',optimizer = 'rmsprop',metrics = ['accuracy'])"
   ]
  },
  {
   "cell_type": "code",
   "execution_count": 35,
   "metadata": {
    "collapsed": true
   },
   "outputs": [],
   "source": [
    "nb_epoch = 30\n",
    "nb_train_samples = 2050\n",
    "nb_validation_samples = 951"
   ]
  },
  {
   "cell_type": "code",
   "execution_count": 36,
   "metadata": {
    "collapsed": false
   },
   "outputs": [
    {
     "name": "stderr",
     "output_type": "stream",
     "text": [
      "//anaconda/lib/python3.5/site-packages/ipykernel/__main__.py:5: UserWarning: Update your `fit_generator` call to the Keras 2 API: `fit_generator(<keras.pre..., epochs=30, validation_steps=951, validation_data=<keras.pre..., steps_per_epoch=2050)`\n"
     ]
    },
    {
     "name": "stdout",
     "output_type": "stream",
     "text": [
      "Epoch 1/30\n",
      "2050/2050 [==============================] - 146s - loss: 0.7460 - acc: 0.5244 - val_loss: 0.7419 - val_acc: 0.5016\n",
      "Epoch 2/30\n",
      "2050/2050 [==============================] - 146s - loss: 0.7642 - acc: 0.5971 - val_loss: 0.9328 - val_acc: 0.5521\n",
      "Epoch 3/30\n",
      "2050/2050 [==============================] - 139s - loss: 0.8053 - acc: 0.6141 - val_loss: 0.7528 - val_acc: 0.5825\n",
      "Epoch 4/30\n",
      "2050/2050 [==============================] - 132s - loss: 0.7766 - acc: 0.6346 - val_loss: 0.6466 - val_acc: 0.6530\n",
      "Epoch 5/30\n",
      "2050/2050 [==============================] - 151s - loss: 0.8016 - acc: 0.6307 - val_loss: 0.7150 - val_acc: 0.6488\n",
      "Epoch 6/30\n",
      "2050/2050 [==============================] - 155s - loss: 0.7925 - acc: 0.6424 - val_loss: 0.7192 - val_acc: 0.6099\n",
      "Epoch 7/30\n",
      "2050/2050 [==============================] - 161s - loss: 0.8043 - acc: 0.6668 - val_loss: 0.6922 - val_acc: 0.6688\n",
      "Epoch 8/30\n",
      "2050/2050 [==============================] - 181s - loss: 0.8109 - acc: 0.6571 - val_loss: 0.8246 - val_acc: 0.6540\n",
      "Epoch 9/30\n",
      "2050/2050 [==============================] - 178s - loss: 0.8102 - acc: 0.6659 - val_loss: 1.4831 - val_acc: 0.5962\n",
      "Epoch 10/30\n",
      "2050/2050 [==============================] - 146s - loss: 0.8579 - acc: 0.6790 - val_loss: 0.7922 - val_acc: 0.6425\n",
      "Epoch 11/30\n",
      "2050/2050 [==============================] - 135s - loss: 0.8843 - acc: 0.6805 - val_loss: 2.1550 - val_acc: 0.5741\n",
      "Epoch 12/30\n",
      "2050/2050 [==============================] - 132s - loss: 0.9325 - acc: 0.6834 - val_loss: 0.8663 - val_acc: 0.5962\n",
      "Epoch 13/30\n",
      "2050/2050 [==============================] - 131s - loss: 0.8134 - acc: 0.6790 - val_loss: 1.6668 - val_acc: 0.6172\n",
      "Epoch 14/30\n",
      "2050/2050 [==============================] - 131s - loss: 0.8863 - acc: 0.6741 - val_loss: 0.9775 - val_acc: 0.6425\n",
      "Epoch 15/30\n",
      "2050/2050 [==============================] - 132s - loss: 0.9384 - acc: 0.6673 - val_loss: 0.8184 - val_acc: 0.6562\n",
      "Epoch 16/30\n",
      "2050/2050 [==============================] - 132s - loss: 0.8523 - acc: 0.6702 - val_loss: 0.7599 - val_acc: 0.6341\n",
      "Epoch 17/30\n",
      "2050/2050 [==============================] - 132s - loss: 0.7943 - acc: 0.6951 - val_loss: 0.8259 - val_acc: 0.6719\n",
      "Epoch 18/30\n",
      "2050/2050 [==============================] - 132s - loss: 0.8849 - acc: 0.7020 - val_loss: 0.8976 - val_acc: 0.6887\n",
      "Epoch 19/30\n",
      "2050/2050 [==============================] - 133s - loss: 1.3614 - acc: 0.6985 - val_loss: 0.9735 - val_acc: 0.6572\n",
      "Epoch 20/30\n",
      "2050/2050 [==============================] - 130s - loss: 0.7953 - acc: 0.6917 - val_loss: 0.8894 - val_acc: 0.6278\n",
      "Epoch 21/30\n",
      "2050/2050 [==============================] - 125s - loss: 0.8039 - acc: 0.7010 - val_loss: 1.2693 - val_acc: 0.6793\n",
      "Epoch 22/30\n",
      "2050/2050 [==============================] - 125s - loss: 0.9201 - acc: 0.6912 - val_loss: 1.0647 - val_acc: 0.5868\n",
      "Epoch 23/30\n",
      "2050/2050 [==============================] - 136s - loss: 0.8097 - acc: 0.6937 - val_loss: 1.1900 - val_acc: 0.6477\n",
      "Epoch 24/30\n",
      "2050/2050 [==============================] - 137s - loss: 1.0371 - acc: 0.6800 - val_loss: 1.2172 - val_acc: 0.6583\n",
      "Epoch 25/30\n",
      "2050/2050 [==============================] - 133s - loss: 0.9217 - acc: 0.6780 - val_loss: 1.4023 - val_acc: 0.6067\n",
      "Epoch 26/30\n",
      "2050/2050 [==============================] - 155s - loss: 0.9872 - acc: 0.6776 - val_loss: 1.0070 - val_acc: 0.5952\n",
      "Epoch 27/30\n",
      "2050/2050 [==============================] - 138s - loss: 1.0126 - acc: 0.6693 - val_loss: 0.8251 - val_acc: 0.6372\n",
      "Epoch 28/30\n",
      "2050/2050 [==============================] - 138s - loss: 1.0325 - acc: 0.6834 - val_loss: 1.0083 - val_acc: 0.6330\n",
      "Epoch 29/30\n",
      "2050/2050 [==============================] - 132s - loss: 1.0236 - acc: 0.6854 - val_loss: 1.1228 - val_acc: 0.6656\n",
      "Epoch 30/30\n",
      "2050/2050 [==============================] - 131s - loss: 0.9180 - acc: 0.6834 - val_loss: 0.9788 - val_acc: 0.6509\n"
     ]
    },
    {
     "data": {
      "text/plain": [
       "<keras.callbacks.History at 0x115d15b38>"
      ]
     },
     "execution_count": 36,
     "metadata": {},
     "output_type": "execute_result"
    }
   ],
   "source": [
    "model.fit_generator(train_generator,\n",
    "                    samples_per_epoch = nb_train_samples,\n",
    "                    nb_epoch = nb_epoch,\n",
    "                    validation_data = validation_generator,\n",
    "                    nb_val_samples = nb_validation_samples)"
   ]
  },
  {
   "cell_type": "code",
   "execution_count": null,
   "metadata": {
    "collapsed": true
   },
   "outputs": [],
   "source": []
  }
 ],
 "metadata": {
  "anaconda-cloud": {},
  "kernelspec": {
   "display_name": "Python [Root]",
   "language": "python",
   "name": "Python [Root]"
  },
  "language_info": {
   "codemirror_mode": {
    "name": "ipython",
    "version": 3
   },
   "file_extension": ".py",
   "mimetype": "text/x-python",
   "name": "python",
   "nbconvert_exporter": "python",
   "pygments_lexer": "ipython3",
   "version": "3.5.2"
  }
 },
 "nbformat": 4,
 "nbformat_minor": 0
}
