{
 "cells": [
  {
   "cell_type": "code",
   "execution_count": 1,
   "metadata": {
    "collapsed": false
   },
   "outputs": [],
   "source": [
    "import glob\n",
    "import tensorflow as tf\n",
    "cat_filenames = glob.glob('./train/cat*.jpg')\n",
    "dog_filenames = glob.glob('./train/dog*.jpg')\n",
    "image_filenames = glob.glob('./train/*.jpg')"
   ]
  },
  {
   "cell_type": "code",
   "execution_count": 17,
   "metadata": {
    "collapsed": false
   },
   "outputs": [
    {
     "data": {
      "text/plain": [
       "2000"
      ]
     },
     "execution_count": 17,
     "metadata": {},
     "output_type": "execute_result"
    }
   ],
   "source": [
    "len(image)"
   ]
  },
  {
   "cell_type": "code",
   "execution_count": 4,
   "metadata": {
    "collapsed": false
   },
   "outputs": [],
   "source": [
    "def get_data(filenames):\n",
    "    sess = tf.Session()\n",
    "    label = []\n",
    "    data = []\n",
    "    for name in filenames:\n",
    "        label.append(name.split('/')[2].split('.')[0])\n",
    "        image_file = tf.read_file(name)\n",
    "        image = tf.image.decode_jpeg(image_file)\n",
    "        image = tf.image.resize_images(image,(150,150))\n",
    "        i = image.eval(session = sess)\n",
    "        data.append(i)\n",
    "    return data,label\n",
    "cat_images,cat_labels = get_data(cat_filenames[:1000])\n",
    "dog_images,dog_labels = get_data(dog_filenames[:1000])"
   ]
  },
  {
   "cell_type": "code",
   "execution_count": 5,
   "metadata": {
    "collapsed": true
   },
   "outputs": [],
   "source": [
    "image = cat_images+dog_images\n",
    "label = cat_labels+dog_labels"
   ]
  },
  {
   "cell_type": "code",
   "execution_count": 6,
   "metadata": {
    "collapsed": false
   },
   "outputs": [],
   "source": [
    "import pandas as pd\n",
    "import numpy as np\n",
    "def format_label(labels):\n",
    "    l=pd.DataFrame(labels,columns=['labels'])\n",
    "    label = pd.get_dummies(l)\n",
    "    return np.asarray(label)\n",
    "def format_image(images):\n",
    "    return (np.asarray(images))/255\n",
    "def format_bilabel(labels):\n",
    "    return np.asarray([1 if x == 'cat' else 0 for x in labels])\n",
    "    "
   ]
  },
  {
   "cell_type": "code",
   "execution_count": 7,
   "metadata": {
    "collapsed": false
   },
   "outputs": [],
   "source": [
    "labels = format_label(label)\n",
    "images = format_image(image)"
   ]
  },
  {
   "cell_type": "markdown",
   "metadata": {
    "collapsed": false
   },
   "source": [
    "images_low= format_image(image_low)\n",
    "labels_low = format_label(label_low)"
   ]
  },
  {
   "cell_type": "code",
   "execution_count": 15,
   "metadata": {
    "collapsed": true
   },
   "outputs": [],
   "source": [
    "def get_input(images):\n",
    "    return tf.placeholder(tf.float32,[None,150,150,3])\n",
    "def get_labels(labels):\n",
    "    return tf.placeholder(tf.float32,[None,2])\n",
    "def get_prob():\n",
    "    return tf.placeholder(tf.float32,None)"
   ]
  },
  {
   "cell_type": "code",
   "execution_count": 16,
   "metadata": {
    "collapsed": false
   },
   "outputs": [],
   "source": [
    "def conv_pool(inputs,conv_ksize,conv_stride,pool_ksize,pool_stride,n_output):\n",
    "    w = tf.Variable(tf.truncated_normal([conv_ksize,\n",
    "                                         conv_ksize,\n",
    "                                         inputs.get_shape().as_list()[3],\n",
    "                                         n_output],mean=0.0, stddev=0.05,dtype = tf.float32))\n",
    "    b = tf.Variable(tf.constant(0.0,shape = [n_output],dtype = tf.float32),trainable = True)\n",
    "    conv = tf.nn.conv2d(inputs,w,[1,conv_stride,conv_stride,1],padding = 'SAME')\n",
    "    conv = tf.nn.bias_add(conv,b)\n",
    "    conv = tf.nn.relu(conv)\n",
    "    pool = tf.nn.max_pool(conv,[1,pool_ksize,pool_ksize,1],[1,pool_stride,pool_stride,1],'SAME')\n",
    "    return pool\n"
   ]
  },
  {
   "cell_type": "code",
   "execution_count": 17,
   "metadata": {
    "collapsed": false
   },
   "outputs": [],
   "source": [
    "def flatten(inputs):\n",
    "    return tf.contrib.layers.flatten(inputs)"
   ]
  },
  {
   "cell_type": "code",
   "execution_count": 18,
   "metadata": {
    "collapsed": false,
    "scrolled": false
   },
   "outputs": [],
   "source": [
    "def fully_connected(inputs,n_output):\n",
    "    w = tf.Variable(tf.truncated_normal([inputs.get_shape().as_list()[1],n_output],mean=0, stddev=5e-2))\n",
    "    b = tf.Variable(tf.constant(1.0,shape =[n_output],dtype = tf.float32),trainable = True)\n",
    "    l = tf.nn.relu(tf.add(tf.matmul(inputs,w),b))\n",
    "    return l"
   ]
  },
  {
   "cell_type": "code",
   "execution_count": 19,
   "metadata": {
    "collapsed": true
   },
   "outputs": [],
   "source": [
    "def output_layer(inputs,n_output):\n",
    "    w = tf.Variable(tf.truncated_normal([inputs.get_shape().as_list()[1],n_output],mean=0, stddev=5e-2))\n",
    "    b = tf.Variable(tf.constant(1.0,shape = [n_output],dtype = tf.float32),trainable = True)\n",
    "    return tf.nn.softmax(tf.add(tf.matmul(inputs,w),b))"
   ]
  },
  {
   "cell_type": "code",
   "execution_count": 20,
   "metadata": {
    "collapsed": true
   },
   "outputs": [],
   "source": [
    "def conv_net(inputs,keep_prob):\n",
    "    conv_ksize = 3\n",
    "    conv_stride = 1\n",
    "    pool_ksize = 2\n",
    "    pool_stride = 2\n",
    "    n_output = 32\n",
    "    a = conv_pool(inputs,conv_ksize,conv_stride,pool_ksize,pool_stride,n_output)\n",
    "    a = tf.nn.dropout(a,keep_prob)\n",
    "    a = conv_pool(a,conv_ksize,conv_stride,pool_ksize,pool_stride,32)\n",
    "    a = tf.nn.dropout(a,keep_prob)\n",
    "    a = conv_pool(a,conv_ksize,conv_stride,pool_ksize,pool_stride,64)\n",
    "    a = tf.nn.dropout(a,keep_prob)\n",
    "    a = conv_pool(a,conv_ksize,conv_stride,pool_ksize,pool_stride,64)\n",
    "    a = tf.nn.dropout(a,keep_prob)\n",
    "    a = flatten(a)\n",
    "#    a = fully_connected(a,1000)\n",
    "    a = fully_connected(a,64)\n",
    "    a = tf.nn.dropout(a,keep_prob)\n",
    "    a = fully_connected(a,32)\n",
    "    a = output_layer(a,2)\n",
    "    return a "
   ]
  },
  {
   "cell_type": "markdown",
   "metadata": {},
   "source": [
    "train_l = pd.DataFrame(train_labels,columns = ['animal'])\n",
    "train_l = pd.get_dummies(train_l.animal)\n",
    "train_l = np.asarray(train_l)\n",
    "train_l.shape"
   ]
  },
  {
   "cell_type": "code",
   "execution_count": 21,
   "metadata": {
    "collapsed": false
   },
   "outputs": [],
   "source": [
    "from sklearn.model_selection import train_test_split\n",
    "X_train, X_test, y_train, y_test = train_test_split(images, labels, test_size=0.2, random_state=42)"
   ]
  },
  {
   "cell_type": "code",
   "execution_count": 22,
   "metadata": {
    "collapsed": false
   },
   "outputs": [],
   "source": [
    "inputs = get_input(images)\n",
    "labels = get_labels(labels)\n",
    "keep_prob = get_prob()\n",
    "logits = conv_net(inputs,keep_prob)\n",
    "cost = tf.reduce_mean(tf.nn.softmax_cross_entropy_with_logits(logits = logits,\n",
    "                                                              labels = labels))\n",
    "optimizer = tf.train.RMSPropOptimizer(0.0001).minimize(cost)\n",
    "correct_pred = tf.equal(tf.argmax(tf.nn.softmax(logits),1),tf.argmax(labels,1))\n",
    "accuracy = tf.reduce_mean(tf.cast(correct_pred, tf.float32))"
   ]
  },
  {
   "cell_type": "code",
   "execution_count": 23,
   "metadata": {
    "collapsed": true
   },
   "outputs": [],
   "source": [
    "def train_network(sess,optimizer,keep_prob, data, label):\n",
    "    sess.run(optimizer,feed_dict = {inputs:data,labels:label,keep_prob:0.5})\n",
    "def print_stats(session, feature_batch, label_batch, cost, accuracy):\n",
    "\n",
    "    loss = session.run(cost, feed_dict={inputs:feature_batch,labels:label_batch,keep_prob:1})\n",
    "    acc = session.run(accuracy,feed_dict = {inputs:feature_batch,labels:label_batch,keep_prob:1})\n",
    "    validation_acc = session.run(accuracy,feed_dict = {inputs:X_test,labels:y_test,keep_prob:1})\n",
    "    print ('loss = ',loss,'training accuracy =',acc,  'validation accuracy = ',validation_acc)"
   ]
  },
  {
   "cell_type": "code",
   "execution_count": 25,
   "metadata": {
    "collapsed": false,
    "scrolled": false
   },
   "outputs": [
    {
     "name": "stdout",
     "output_type": "stream",
     "text": [
      "Learning Starts:\n",
      "Epoch  1  Step  1loss =  0.694331 training accuracy = 0.375 validation accuracy =  0.5025\n",
      "Epoch  1  Step 51loss =  0.692786 training accuracy = 0.5 validation accuracy =  0.4975\n",
      "Epoch  1  Step 101loss =  0.692626 training accuracy = 0.5625 validation accuracy =  0.5025\n",
      "Epoch  1  Step 151loss =  0.688967 training accuracy = 0.625 validation accuracy =  0.4975\n",
      "Epoch  1  Step 201loss =  0.69273 training accuracy = 0.6875 validation accuracy =  0.5725\n",
      "Epoch  1  Step 251loss =  0.68988 training accuracy = 0.5625 validation accuracy =  0.4975\n",
      "Epoch  1  Step 301loss =  0.692187 training accuracy = 0.5 validation accuracy =  0.5\n",
      "Epoch  1  Step 351loss =  0.702487 training accuracy = 0.3125 validation accuracy =  0.4975\n",
      "Epoch  1  Step 401loss =  0.681089 training accuracy = 0.8125 validation accuracy =  0.4975\n",
      "Epoch  1  Step 451loss =  0.690293 training accuracy = 0.5625 validation accuracy =  0.4975\n",
      "Epoch  1  Step 501loss =  0.685571 training accuracy = 0.625 validation accuracy =  0.4975\n",
      "Epoch  1  Step 551loss =  0.699376 training accuracy = 0.4375 validation accuracy =  0.4975\n",
      "Epoch  1  Step 601loss =  0.69701 training accuracy = 0.4375 validation accuracy =  0.4975\n",
      "Epoch  1  Step 651loss =  0.710621 training accuracy = 0.3125 validation accuracy =  0.4975\n",
      "Epoch  1  Step 701loss =  0.686008 training accuracy = 0.5625 validation accuracy =  0.4975\n",
      "Epoch  1  Step 751loss =  0.694167 training accuracy = 0.5 validation accuracy =  0.4975\n",
      "Epoch  1  Step 801loss =  0.699786 training accuracy = 0.4375 validation accuracy =  0.4975\n",
      "Epoch  1  Step 851loss =  0.710145 training accuracy = 0.375 validation accuracy =  0.4975\n",
      "Epoch  1  Step 901loss =  0.693135 training accuracy = 0.4375 validation accuracy =  0.4925\n",
      "Epoch  1  Step 951loss =  0.666107 training accuracy = 0.6875 validation accuracy =  0.4975\n",
      "Epoch  1  Step 1001loss =  0.698177 training accuracy = 0.4375 validation accuracy =  0.4875\n",
      "Epoch  2  Step  1loss =  0.670942 training accuracy = 0.625 validation accuracy =  0.4875\n",
      "Epoch  2  Step 51loss =  0.699785 training accuracy = 0.5 validation accuracy =  0.4975\n",
      "Epoch  2  Step 101loss =  0.702136 training accuracy = 0.375 validation accuracy =  0.495\n",
      "Epoch  2  Step 151loss =  0.676285 training accuracy = 0.625 validation accuracy =  0.495\n",
      "Epoch  2  Step 201loss =  0.685687 training accuracy = 0.5 validation accuracy =  0.4925\n",
      "Epoch  2  Step 251loss =  0.6818 training accuracy = 0.5625 validation accuracy =  0.4925\n",
      "Epoch  2  Step 301loss =  0.660118 training accuracy = 0.6875 validation accuracy =  0.4925\n",
      "Epoch  2  Step 351loss =  0.705678 training accuracy = 0.3125 validation accuracy =  0.49\n",
      "Epoch  2  Step 401loss =  0.647224 training accuracy = 0.8125 validation accuracy =  0.5075\n",
      "Epoch  2  Step 451loss =  0.704502 training accuracy = 0.5625 validation accuracy =  0.495\n",
      "Epoch  2  Step 501loss =  0.673436 training accuracy = 0.625 validation accuracy =  0.51\n",
      "Epoch  2  Step 551loss =  0.707203 training accuracy = 0.4375 validation accuracy =  0.5\n",
      "Epoch  2  Step 601loss =  0.7006 training accuracy = 0.5 validation accuracy =  0.515\n",
      "Epoch  2  Step 651loss =  0.733952 training accuracy = 0.3125 validation accuracy =  0.51\n",
      "Epoch  2  Step 701loss =  0.666571 training accuracy = 0.5625 validation accuracy =  0.525\n",
      "Epoch  2  Step 751loss =  0.665398 training accuracy = 0.5625 validation accuracy =  0.545\n",
      "Epoch  2  Step 801loss =  0.69643 training accuracy = 0.4375 validation accuracy =  0.5625\n",
      "Epoch  2  Step 851loss =  0.736641 training accuracy = 0.375 validation accuracy =  0.58\n",
      "Epoch  2  Step 901loss =  0.669612 training accuracy = 0.6875 validation accuracy =  0.5675\n",
      "Epoch  2  Step 951loss =  0.63489 training accuracy = 0.6875 validation accuracy =  0.56\n",
      "Epoch  2  Step 1001loss =  0.67413 training accuracy = 0.625 validation accuracy =  0.5725\n",
      "Epoch  3  Step  1loss =  0.618907 training accuracy = 0.75 validation accuracy =  0.5725\n",
      "Epoch  3  Step 51loss =  0.689734 training accuracy = 0.5 validation accuracy =  0.595\n",
      "Epoch  3  Step 101loss =  0.701003 training accuracy = 0.5625 validation accuracy =  0.6025\n",
      "Epoch  3  Step 151loss =  0.641778 training accuracy = 0.6875 validation accuracy =  0.5775\n",
      "Epoch  3  Step 201loss =  0.656488 training accuracy = 0.5625 validation accuracy =  0.615\n",
      "Epoch  3  Step 251loss =  0.639821 training accuracy = 0.625 validation accuracy =  0.5975\n",
      "Epoch  3  Step 301loss =  0.562895 training accuracy = 0.9375 validation accuracy =  0.6075\n",
      "Epoch  3  Step 351loss =  0.595321 training accuracy = 0.75 validation accuracy =  0.61\n",
      "Epoch  3  Step 401loss =  0.551199 training accuracy = 0.8125 validation accuracy =  0.5725\n",
      "Epoch  3  Step 451loss =  0.647363 training accuracy = 0.6875 validation accuracy =  0.6025\n",
      "Epoch  3  Step 501loss =  0.671545 training accuracy = 0.625 validation accuracy =  0.58\n",
      "Epoch  3  Step 551loss =  0.732455 training accuracy = 0.4375 validation accuracy =  0.5975\n",
      "Epoch  3  Step 601loss =  0.766807 training accuracy = 0.4375 validation accuracy =  0.5775\n",
      "Epoch  3  Step 651loss =  0.746843 training accuracy = 0.4375 validation accuracy =  0.615\n",
      "Epoch  3  Step 701loss =  0.659673 training accuracy = 0.625 validation accuracy =  0.5875\n",
      "Epoch  3  Step 751loss =  0.611925 training accuracy = 0.625 validation accuracy =  0.6125\n",
      "Epoch  3  Step 801loss =  0.682479 training accuracy = 0.5625 validation accuracy =  0.6125\n",
      "Epoch  3  Step 851loss =  0.737683 training accuracy = 0.5 validation accuracy =  0.6375\n",
      "Epoch  3  Step 901loss =  0.626071 training accuracy = 0.6875 validation accuracy =  0.61\n",
      "Epoch  3  Step 951loss =  0.599241 training accuracy = 0.6875 validation accuracy =  0.5975\n",
      "Epoch  3  Step 1001loss =  0.633146 training accuracy = 0.625 validation accuracy =  0.6025\n",
      "Epoch  4  Step  1loss =  0.593234 training accuracy = 0.75 validation accuracy =  0.6\n",
      "Epoch  4  Step 51loss =  0.675422 training accuracy = 0.5625 validation accuracy =  0.6225\n",
      "Epoch  4  Step 101loss =  0.691338 training accuracy = 0.5 validation accuracy =  0.61\n",
      "Epoch  4  Step 151loss =  0.623264 training accuracy = 0.6875 validation accuracy =  0.62\n",
      "Epoch  4  Step 201loss =  0.616002 training accuracy = 0.6875 validation accuracy =  0.615\n",
      "Epoch  4  Step 251loss =  0.624848 training accuracy = 0.625 validation accuracy =  0.6175\n",
      "Epoch  4  Step 301loss =  0.522741 training accuracy = 0.8125 validation accuracy =  0.625\n",
      "Epoch  4  Step 351loss =  0.557667 training accuracy = 0.75 validation accuracy =  0.645\n",
      "Epoch  4  Step 401loss =  0.539798 training accuracy = 0.8125 validation accuracy =  0.6075\n",
      "Epoch  4  Step 451loss =  0.610517 training accuracy = 0.6875 validation accuracy =  0.6225\n",
      "Epoch  4  Step 501loss =  0.663999 training accuracy = 0.5625 validation accuracy =  0.6025\n",
      "Epoch  4  Step 551loss =  0.669369 training accuracy = 0.5625 validation accuracy =  0.6525\n",
      "Epoch  4  Step 601loss =  0.762579 training accuracy = 0.4375 validation accuracy =  0.615\n",
      "Epoch  4  Step 651loss =  0.74653 training accuracy = 0.4375 validation accuracy =  0.63\n",
      "Epoch  4  Step 701loss =  0.643323 training accuracy = 0.625 validation accuracy =  0.6275\n",
      "Epoch  4  Step 751loss =  0.562384 training accuracy = 0.75 validation accuracy =  0.665\n",
      "Epoch  4  Step 801loss =  0.627316 training accuracy = 0.6875 validation accuracy =  0.645\n",
      "Epoch  4  Step 851loss =  0.684766 training accuracy = 0.5 validation accuracy =  0.66\n",
      "Epoch  4  Step 901loss =  0.588751 training accuracy = 0.6875 validation accuracy =  0.6425\n",
      "Epoch  4  Step 951loss =  0.613781 training accuracy = 0.625 validation accuracy =  0.6625\n",
      "Epoch  4  Step 1001loss =  0.595595 training accuracy = 0.8125 validation accuracy =  0.6425\n",
      "Epoch  5  Step  1loss =  0.590484 training accuracy = 0.6875 validation accuracy =  0.645\n",
      "Epoch  5  Step 51loss =  0.658617 training accuracy = 0.625 validation accuracy =  0.6475\n",
      "Epoch  5  Step 101loss =  0.628875 training accuracy = 0.625 validation accuracy =  0.645\n",
      "Epoch  5  Step 151loss =  0.613986 training accuracy = 0.6875 validation accuracy =  0.6375\n",
      "Epoch  5  Step 201loss =  0.579302 training accuracy = 0.75 validation accuracy =  0.6525\n",
      "Epoch  5  Step 251loss =  0.612675 training accuracy = 0.625 validation accuracy =  0.6575\n",
      "Epoch  5  Step 301loss =  0.506938 training accuracy = 0.75 validation accuracy =  0.66\n",
      "Epoch  5  Step 351loss =  0.499828 training accuracy = 0.8125 validation accuracy =  0.665\n",
      "Epoch  5  Step 401loss =  0.545026 training accuracy = 0.8125 validation accuracy =  0.63\n",
      "Epoch  5  Step 451loss =  0.581544 training accuracy = 0.75 validation accuracy =  0.66\n",
      "Epoch  5  Step 501loss =  0.633741 training accuracy = 0.5625 validation accuracy =  0.655\n",
      "Epoch  5  Step 551loss =  0.634858 training accuracy = 0.6875 validation accuracy =  0.69\n",
      "Epoch  5  Step 601loss =  0.717667 training accuracy = 0.5 validation accuracy =  0.655\n",
      "Epoch  5  Step 651loss =  0.734889 training accuracy = 0.5 validation accuracy =  0.675\n",
      "Epoch  5  Step 701loss =  0.617681 training accuracy = 0.6875 validation accuracy =  0.67\n",
      "Epoch  5  Step 751loss =  0.537465 training accuracy = 0.8125 validation accuracy =  0.67\n",
      "Epoch  5  Step 801loss =  0.584917 training accuracy = 0.6875 validation accuracy =  0.6775\n",
      "Epoch  5  Step 851loss =  0.650637 training accuracy = 0.625 validation accuracy =  0.6775\n",
      "Epoch  5  Step 901loss =  0.543161 training accuracy = 0.8125 validation accuracy =  0.665\n",
      "Epoch  5  Step 951loss =  0.635136 training accuracy = 0.5625 validation accuracy =  0.675\n",
      "Epoch  5  Step 1001loss =  0.598906 training accuracy = 0.625 validation accuracy =  0.6625\n",
      "Epoch  6  Step  1loss =  0.566085 training accuracy = 0.75 validation accuracy =  0.66\n",
      "Epoch  6  Step 51loss =  0.606509 training accuracy = 0.6875 validation accuracy =  0.645\n",
      "Epoch  6  Step 101loss =  0.582227 training accuracy = 0.6875 validation accuracy =  0.67\n",
      "Epoch  6  Step 151loss =  0.598545 training accuracy = 0.625 validation accuracy =  0.675\n",
      "Epoch  6  Step 201loss =  0.537082 training accuracy = 0.8125 validation accuracy =  0.67\n",
      "Epoch  6  Step 251loss =  0.510041 training accuracy = 0.875 validation accuracy =  0.675\n",
      "Epoch  6  Step 301loss =  0.468253 training accuracy = 0.75 validation accuracy =  0.66\n",
      "Epoch  6  Step 351loss =  0.469844 training accuracy = 0.875 validation accuracy =  0.6725\n",
      "Epoch  6  Step 401loss =  0.477104 training accuracy = 0.9375 validation accuracy =  0.6575\n",
      "Epoch  6  Step 451loss =  0.547932 training accuracy = 0.75 validation accuracy =  0.665\n",
      "Epoch  6  Step 501loss =  0.618585 training accuracy = 0.5625 validation accuracy =  0.6525\n",
      "Epoch  6  Step 551loss =  0.6428 training accuracy = 0.625 validation accuracy =  0.68\n",
      "Epoch  6  Step 601loss =  0.679382 training accuracy = 0.5625 validation accuracy =  0.675\n",
      "Epoch  6  Step 651loss =  0.715815 training accuracy = 0.4375 validation accuracy =  0.6975\n",
      "Epoch  6  Step 701loss =  0.615447 training accuracy = 0.6875 validation accuracy =  0.6675\n",
      "Epoch  6  Step 751loss =  0.491911 training accuracy = 0.875 validation accuracy =  0.7\n",
      "Epoch  6  Step 801loss =  0.536425 training accuracy = 0.6875 validation accuracy =  0.705\n",
      "Epoch  6  Step 851loss =  0.614958 training accuracy = 0.625 validation accuracy =  0.7\n",
      "Epoch  6  Step 901loss =  0.537438 training accuracy = 0.8125 validation accuracy =  0.68\n",
      "Epoch  6  Step 951loss =  0.678589 training accuracy = 0.5625 validation accuracy =  0.69\n",
      "Epoch  6  Step 1001loss =  0.568068 training accuracy = 0.6875 validation accuracy =  0.7075\n",
      "Epoch  7  Step  1loss =  0.539355 training accuracy = 0.75 validation accuracy =  0.7075\n",
      "Epoch  7  Step 51loss =  0.527314 training accuracy = 0.75 validation accuracy =  0.65\n",
      "Epoch  7  Step 101loss =  0.552711 training accuracy = 0.8125 validation accuracy =  0.68\n",
      "Epoch  7  Step 151loss =  0.597318 training accuracy = 0.625 validation accuracy =  0.675\n",
      "Epoch  7  Step 201loss =  0.523788 training accuracy = 0.75 validation accuracy =  0.7225\n",
      "Epoch  7  Step 251loss =  0.465723 training accuracy = 0.875 validation accuracy =  0.68\n",
      "Epoch  7  Step 301loss =  0.414938 training accuracy = 0.875 validation accuracy =  0.7125\n",
      "Epoch  7  Step 351loss =  0.458814 training accuracy = 0.875 validation accuracy =  0.68\n",
      "Epoch  7  Step 401loss =  0.42293 training accuracy = 0.875 validation accuracy =  0.65\n",
      "Epoch  7  Step 451loss =  0.525315 training accuracy = 0.75 validation accuracy =  0.655\n",
      "Epoch  7  Step 501loss =  0.57198 training accuracy = 0.625 validation accuracy =  0.68\n",
      "Epoch  7  Step 551loss =  0.608107 training accuracy = 0.625 validation accuracy =  0.7025\n",
      "Epoch  7  Step 601loss =  0.659675 training accuracy = 0.5625 validation accuracy =  0.675\n",
      "Epoch  7  Step 651loss =  0.718736 training accuracy = 0.4375 validation accuracy =  0.69\n",
      "Epoch  7  Step 701loss =  0.581859 training accuracy = 0.75 validation accuracy =  0.7\n",
      "Epoch  7  Step 751loss =  0.521979 training accuracy = 0.75 validation accuracy =  0.685\n",
      "Epoch  7  Step 801loss =  0.529908 training accuracy = 0.75 validation accuracy =  0.7025\n",
      "Epoch  7  Step 851loss =  0.618976 training accuracy = 0.6875 validation accuracy =  0.675\n",
      "Epoch  7  Step 901loss =  0.53024 training accuracy = 0.8125 validation accuracy =  0.7\n",
      "Epoch  7  Step 951loss =  0.651017 training accuracy = 0.625 validation accuracy =  0.675\n",
      "Epoch  7  Step 1001loss =  0.538456 training accuracy = 0.625 validation accuracy =  0.7025\n",
      "Epoch  8  Step  1loss =  0.499121 training accuracy = 0.75 validation accuracy =  0.7025\n",
      "Epoch  8  Step 51loss =  0.502757 training accuracy = 0.875 validation accuracy =  0.6825\n",
      "Epoch  8  Step 101loss =  0.538264 training accuracy = 0.75 validation accuracy =  0.715\n",
      "Epoch  8  Step 151loss =  0.590709 training accuracy = 0.625 validation accuracy =  0.665\n",
      "Epoch  8  Step 201loss =  0.492753 training accuracy = 0.8125 validation accuracy =  0.7025\n",
      "Epoch  8  Step 251loss =  0.481317 training accuracy = 0.8125 validation accuracy =  0.6825\n",
      "Epoch  8  Step 301loss =  0.411483 training accuracy = 1.0 validation accuracy =  0.7\n",
      "Epoch  8  Step 351loss =  0.436713 training accuracy = 0.875 validation accuracy =  0.6925\n",
      "Epoch  8  Step 401loss =  0.415981 training accuracy = 0.9375 validation accuracy =  0.6725\n",
      "Epoch  8  Step 451loss =  0.518746 training accuracy = 0.8125 validation accuracy =  0.685\n",
      "Epoch  8  Step 501loss =  0.533941 training accuracy = 0.6875 validation accuracy =  0.6775\n",
      "Epoch  8  Step 551loss =  0.564842 training accuracy = 0.75 validation accuracy =  0.7025\n",
      "Epoch  8  Step 601loss =  0.594663 training accuracy = 0.6875 validation accuracy =  0.705\n",
      "Epoch  8  Step 651loss =  0.71363 training accuracy = 0.4375 validation accuracy =  0.6825\n",
      "Epoch  8  Step 701loss =  0.585674 training accuracy = 0.75 validation accuracy =  0.69\n",
      "Epoch  8  Step 751loss =  0.543897 training accuracy = 0.6875 validation accuracy =  0.6925\n",
      "Epoch  8  Step 801loss =  0.538103 training accuracy = 0.8125 validation accuracy =  0.6975\n",
      "Epoch  8  Step 851loss =  0.607717 training accuracy = 0.6875 validation accuracy =  0.68\n",
      "Epoch  8  Step 901loss =  0.526041 training accuracy = 0.8125 validation accuracy =  0.685\n",
      "Epoch  8  Step 951loss =  0.65416 training accuracy = 0.625 validation accuracy =  0.69\n",
      "Epoch  8  Step 1001loss =  0.508582 training accuracy = 0.875 validation accuracy =  0.69\n"
     ]
    }
   ],
   "source": [
    "epochs =8\n",
    "batch_size = 16\n",
    "n_steps =1001\n",
    "with tf.Session() as sess:\n",
    "    sess.run(tf.global_variables_initializer())\n",
    "    print (\"Learning Starts:\")\n",
    "    for epoch in range(epochs):\n",
    "        for step in range(n_steps):\n",
    "            start = (step*batch_size)%(y_train.shape[0]-batch_size)\n",
    "            batch_data = X_train[start:(start+batch_size),:,:,:]\n",
    "            batch_label = y_train[start:(start+batch_size),:]\n",
    "            train_network(sess, optimizer, keep_prob, batch_data, batch_label)\n",
    "            if (step % 50 == 0):\n",
    "                print('Epoch {:>2}'.format(epoch + 1), end='')\n",
    "                print('  Step {:>2}'.format(step +1), end = '')\n",
    "                print_stats(sess, batch_data, batch_label, cost, accuracy)\n",
    "    #print (sess.run(logits,feed_dict = {inputs:X_train[4996:5004],keep_prob:1}))\n"
   ]
  },
  {
   "cell_type": "code",
   "execution_count": null,
   "metadata": {
    "collapsed": true
   },
   "outputs": [],
   "source": []
  }
 ],
 "metadata": {
  "kernelspec": {
   "display_name": "Python [Root]",
   "language": "python",
   "name": "Python [Root]"
  },
  "language_info": {
   "codemirror_mode": {
    "name": "ipython",
    "version": 3
   },
   "file_extension": ".py",
   "mimetype": "text/x-python",
   "name": "python",
   "nbconvert_exporter": "python",
   "pygments_lexer": "ipython3",
   "version": "3.5.2"
  }
 },
 "nbformat": 4,
 "nbformat_minor": 0
}
